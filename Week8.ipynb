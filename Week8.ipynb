{
 "cells": [
  {
   "cell_type": "code",
   "execution_count": null,
   "id": "4bebe41d",
   "metadata": {},
   "outputs": [],
   "source": [
    "CREATE TABLE Patients (\n",
    "    PatientID INT PRIMARY KEY AUTO_INCREMENT,\n",
    "    Name VARCHAR(100) NOT NULL,\n",
    "    DateOfBirth DATE NOT NULL,\n",
    "    Phone VARCHAR(15) UNIQUE,\n",
    "    Email VARCHAR(100) UNIQUE,\n",
    "    Address TEXT\n",
    ");\n",
    "\n",
    "CREATE TABLE Doctors (\n",
    "    DoctorID INT PRIMARY KEY AUTO_INCREMENT,\n",
    "    Name VARCHAR(100) NOT NULL,\n",
    "    Specialty VARCHAR(100) NOT NULL,\n",
    "    Phone VARCHAR(15) UNIQUE,\n",
    "    Email VARCHAR(100) UNIQUE\n",
    ");\n",
    "\n",
    "CREATE TABLE Appointments (\n",
    "    AppointmentID INT PRIMARY KEY AUTO_INCREMENT,\n",
    "    PatientID INT NOT NULL,\n",
    "    DoctorID INT NOT NULL,\n",
    "    AppointmentDate DATETIME NOT NULL,\n",
    "    Status ENUM('Scheduled', 'Completed', 'Cancelled') DEFAULT 'Scheduled',\n",
    "    FOREIGN KEY (PatientID) REFERENCES Patients(PatientID),\n",
    "    FOREIGN KEY (DoctorID) REFERENCES Doctors(DoctorID)\n",
    ");\n",
    "\n",
    "CREATE TABLE Medical_Records (\n",
    "    RecordID INT PRIMARY KEY AUTO_INCREMENT,\n",
    "    PatientID INT UNIQUE NOT NULL,\n",
    "    Diagnosis TEXT,\n",
    "    Prescriptions TEXT,\n",
    "    LastUpdated TIMESTAMP DEFAULT CURRENT_TIMESTAMP ON UPDATE CURRENT_TIMESTAMP,\n",
    "    FOREIGN KEY (PatientID) REFERENCES Patients(PatientID)\n",
    ");\n",
    "\n",
    "\n",
    "\n"
   ]
  }
 ],
 "metadata": {
  "kernelspec": {
   "display_name": "Python 3",
   "language": "python",
   "name": "python3"
  },
  "language_info": {
   "name": "python",
   "version": "3.13.3"
  }
 },
 "nbformat": 4,
 "nbformat_minor": 5
}
